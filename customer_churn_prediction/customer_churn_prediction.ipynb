{
  "cells": [
    {
      "cell_type": "markdown",
      "metadata": {},
      "source": [
        "### import the required modules"
      ]
    },
    {
      "cell_type": "code",
      "execution_count": 1,
      "metadata": {
        "id": "d-xeuUU9ZW41"
      },
      "outputs": [],
      "source": [
        "import pandas as pd\n",
        "import numpy as np\n",
        "import seaborn as sns\n",
        "import matplotlib.pyplot as plt\n",
        "from sklearn.model_selection import train_test_split\n",
        "from sklearn.linear_model import LogisticRegression\n",
        "from sklearn.metrics import classification_report, confusion_matrix\n",
        "# reading datasets\n",
        "train = pd.read_csv('train.csv')"
      ]
    },
    {
      "cell_type": "code",
      "execution_count": 2,
      "metadata": {
        "colab": {
          "base_uri": "https://localhost:8080/",
          "height": 224
        },
        "id": "5Jf0J4IP12cR",
        "outputId": "d2b5f65d-7905-440f-e35a-d7b9294bb863"
      },
      "outputs": [
        {
          "data": {
            "text/html": [
              "<div>\n",
              "<style scoped>\n",
              "    .dataframe tbody tr th:only-of-type {\n",
              "        vertical-align: middle;\n",
              "    }\n",
              "\n",
              "    .dataframe tbody tr th {\n",
              "        vertical-align: top;\n",
              "    }\n",
              "\n",
              "    .dataframe thead th {\n",
              "        text-align: right;\n",
              "    }\n",
              "</style>\n",
              "<table border=\"1\" class=\"dataframe\">\n",
              "  <thead>\n",
              "    <tr style=\"text-align: right;\">\n",
              "      <th></th>\n",
              "      <th>CustomerID</th>\n",
              "      <th>Age</th>\n",
              "      <th>Gender</th>\n",
              "      <th>Tenure</th>\n",
              "      <th>Usage Frequency</th>\n",
              "      <th>Support Calls</th>\n",
              "      <th>Payment Delay</th>\n",
              "      <th>Subscription Type</th>\n",
              "      <th>Contract Length</th>\n",
              "      <th>Total Spend</th>\n",
              "      <th>Last Interaction</th>\n",
              "      <th>Churn</th>\n",
              "    </tr>\n",
              "  </thead>\n",
              "  <tbody>\n",
              "    <tr>\n",
              "      <th>0</th>\n",
              "      <td>2.0</td>\n",
              "      <td>30.0</td>\n",
              "      <td>Female</td>\n",
              "      <td>39.0</td>\n",
              "      <td>14.0</td>\n",
              "      <td>5.0</td>\n",
              "      <td>18.0</td>\n",
              "      <td>Standard</td>\n",
              "      <td>Annual</td>\n",
              "      <td>932.0</td>\n",
              "      <td>17.0</td>\n",
              "      <td>1.0</td>\n",
              "    </tr>\n",
              "    <tr>\n",
              "      <th>1</th>\n",
              "      <td>3.0</td>\n",
              "      <td>65.0</td>\n",
              "      <td>Female</td>\n",
              "      <td>49.0</td>\n",
              "      <td>1.0</td>\n",
              "      <td>10.0</td>\n",
              "      <td>8.0</td>\n",
              "      <td>Basic</td>\n",
              "      <td>Monthly</td>\n",
              "      <td>557.0</td>\n",
              "      <td>6.0</td>\n",
              "      <td>1.0</td>\n",
              "    </tr>\n",
              "    <tr>\n",
              "      <th>2</th>\n",
              "      <td>4.0</td>\n",
              "      <td>55.0</td>\n",
              "      <td>Female</td>\n",
              "      <td>14.0</td>\n",
              "      <td>4.0</td>\n",
              "      <td>6.0</td>\n",
              "      <td>18.0</td>\n",
              "      <td>Basic</td>\n",
              "      <td>Quarterly</td>\n",
              "      <td>185.0</td>\n",
              "      <td>3.0</td>\n",
              "      <td>1.0</td>\n",
              "    </tr>\n",
              "    <tr>\n",
              "      <th>3</th>\n",
              "      <td>5.0</td>\n",
              "      <td>58.0</td>\n",
              "      <td>Male</td>\n",
              "      <td>38.0</td>\n",
              "      <td>21.0</td>\n",
              "      <td>7.0</td>\n",
              "      <td>7.0</td>\n",
              "      <td>Standard</td>\n",
              "      <td>Monthly</td>\n",
              "      <td>396.0</td>\n",
              "      <td>29.0</td>\n",
              "      <td>1.0</td>\n",
              "    </tr>\n",
              "    <tr>\n",
              "      <th>4</th>\n",
              "      <td>6.0</td>\n",
              "      <td>23.0</td>\n",
              "      <td>Male</td>\n",
              "      <td>32.0</td>\n",
              "      <td>20.0</td>\n",
              "      <td>5.0</td>\n",
              "      <td>8.0</td>\n",
              "      <td>Basic</td>\n",
              "      <td>Monthly</td>\n",
              "      <td>617.0</td>\n",
              "      <td>20.0</td>\n",
              "      <td>1.0</td>\n",
              "    </tr>\n",
              "  </tbody>\n",
              "</table>\n",
              "</div>"
            ],
            "text/plain": [
              "   CustomerID   Age  Gender  Tenure  Usage Frequency  Support Calls  \\\n",
              "0         2.0  30.0  Female    39.0             14.0            5.0   \n",
              "1         3.0  65.0  Female    49.0              1.0           10.0   \n",
              "2         4.0  55.0  Female    14.0              4.0            6.0   \n",
              "3         5.0  58.0    Male    38.0             21.0            7.0   \n",
              "4         6.0  23.0    Male    32.0             20.0            5.0   \n",
              "\n",
              "   Payment Delay Subscription Type Contract Length  Total Spend  \\\n",
              "0           18.0          Standard          Annual        932.0   \n",
              "1            8.0             Basic         Monthly        557.0   \n",
              "2           18.0             Basic       Quarterly        185.0   \n",
              "3            7.0          Standard         Monthly        396.0   \n",
              "4            8.0             Basic         Monthly        617.0   \n",
              "\n",
              "   Last Interaction  Churn  \n",
              "0              17.0    1.0  \n",
              "1               6.0    1.0  \n",
              "2               3.0    1.0  \n",
              "3              29.0    1.0  \n",
              "4              20.0    1.0  "
            ]
          },
          "execution_count": 2,
          "metadata": {},
          "output_type": "execute_result"
        }
      ],
      "source": [
        "train.head()"
      ]
    },
    {
      "cell_type": "markdown",
      "metadata": {},
      "source": [
        "### Drop missing values and Customer ID column"
      ]
    },
    {
      "cell_type": "code",
      "execution_count": 3,
      "metadata": {
        "colab": {
          "base_uri": "https://localhost:8080/"
        },
        "id": "ktSPHC5G2HN6",
        "outputId": "6e8cebee-c762-4e8d-c0fd-0ac1546ec5c7"
      },
      "outputs": [
        {
          "data": {
            "text/plain": [
              "CustomerID           1\n",
              "Age                  1\n",
              "Gender               1\n",
              "Tenure               1\n",
              "Usage Frequency      1\n",
              "Support Calls        1\n",
              "Payment Delay        1\n",
              "Subscription Type    1\n",
              "Contract Length      1\n",
              "Total Spend          1\n",
              "Last Interaction     1\n",
              "Churn                1\n",
              "dtype: int64"
            ]
          },
          "execution_count": 3,
          "metadata": {},
          "output_type": "execute_result"
        }
      ],
      "source": [
        "train.isnull().sum()"
      ]
    },
    {
      "cell_type": "code",
      "execution_count": 4,
      "metadata": {
        "id": "bEg_SvRr2OZc"
      },
      "outputs": [],
      "source": [
        "train.drop(columns='CustomerID',axis=1,inplace=True)"
      ]
    },
    {
      "cell_type": "code",
      "execution_count": 5,
      "metadata": {
        "colab": {
          "base_uri": "https://localhost:8080/"
        },
        "id": "SClqorPa2SL5",
        "outputId": "875d9d66-587d-4498-fd24-30f504a46b69"
      },
      "outputs": [
        {
          "name": "stdout",
          "output_type": "stream",
          "text": [
            "<class 'pandas.core.frame.DataFrame'>\n",
            "RangeIndex: 440833 entries, 0 to 440832\n",
            "Data columns (total 11 columns):\n",
            " #   Column             Non-Null Count   Dtype  \n",
            "---  ------             --------------   -----  \n",
            " 0   Age                440832 non-null  float64\n",
            " 1   Gender             440832 non-null  object \n",
            " 2   Tenure             440832 non-null  float64\n",
            " 3   Usage Frequency    440832 non-null  float64\n",
            " 4   Support Calls      440832 non-null  float64\n",
            " 5   Payment Delay      440832 non-null  float64\n",
            " 6   Subscription Type  440832 non-null  object \n",
            " 7   Contract Length    440832 non-null  object \n",
            " 8   Total Spend        440832 non-null  float64\n",
            " 9   Last Interaction   440832 non-null  float64\n",
            " 10  Churn              440832 non-null  float64\n",
            "dtypes: float64(8), object(3)\n",
            "memory usage: 37.0+ MB\n"
          ]
        }
      ],
      "source": [
        "train.info()"
      ]
    },
    {
      "cell_type": "code",
      "execution_count": 6,
      "metadata": {
        "colab": {
          "base_uri": "https://localhost:8080/"
        },
        "id": "X_XweONU2VIR",
        "outputId": "5fadb6a2-1b1b-44ad-fb94-38cbf790a431"
      },
      "outputs": [
        {
          "data": {
            "text/plain": [
              "(440832, 11)"
            ]
          },
          "execution_count": 6,
          "metadata": {},
          "output_type": "execute_result"
        }
      ],
      "source": [
        "train = train.dropna()\n",
        "train.shape"
      ]
    },
    {
      "cell_type": "code",
      "execution_count": 7,
      "metadata": {
        "colab": {
          "base_uri": "https://localhost:8080/"
        },
        "id": "U330eU_s2sCz",
        "outputId": "4cec687b-d5d6-436f-ded8-f461d38623be"
      },
      "outputs": [
        {
          "data": {
            "text/plain": [
              "Age                  0\n",
              "Gender               0\n",
              "Tenure               0\n",
              "Usage Frequency      0\n",
              "Support Calls        0\n",
              "Payment Delay        0\n",
              "Subscription Type    0\n",
              "Contract Length      0\n",
              "Total Spend          0\n",
              "Last Interaction     0\n",
              "Churn                0\n",
              "dtype: int64"
            ]
          },
          "execution_count": 7,
          "metadata": {},
          "output_type": "execute_result"
        }
      ],
      "source": [
        "train.isnull().sum()"
      ]
    },
    {
      "cell_type": "markdown",
      "metadata": {},
      "source": [
        "### Show correlation matrix"
      ]
    },
    {
      "cell_type": "code",
      "execution_count": 8,
      "metadata": {
        "colab": {
          "base_uri": "https://localhost:8080/",
          "height": 441
        },
        "id": "L6OEzzD4NIYH",
        "outputId": "8d4a9f6d-eb8d-420f-c212-97330f755e07"
      },
      "outputs": [
        {
          "name": "stdout",
          "output_type": "stream",
          "text": [
            "['Gender', 'Subscription Type', 'Contract Length']\n",
            "['Female' 'Male']\n",
            "['Standard' 'Basic' 'Premium']\n",
            "['Annual' 'Monthly' 'Quarterly']\n"
          ]
        }
      ],
      "source": [
        "df = train.copy()\n",
        "Categorical_col = []\n",
        "Numerical_col = []\n",
        "for col in df.columns:\n",
        "    if train[col].dtype == 'object':\n",
        "        Categorical_col.append(col)\n",
        "\n",
        "    else:\n",
        "        Numerical_col.append(col)\n",
        "\n",
        "\n",
        "print(Categorical_col)\n",
        "for col in Categorical_col:\n",
        "    print(df[col].unique())"
      ]
    },
    {
      "cell_type": "code",
      "execution_count": 11,
      "metadata": {
        "colab": {
          "base_uri": "https://localhost:8080/",
          "height": 224
        },
        "id": "wr7keN2f3RFn",
        "outputId": "4dfca5af-c410-4408-e3fc-a5b43d2a73a0"
      },
      "outputs": [
        {
          "data": {
            "text/html": [
              "<div>\n",
              "<style scoped>\n",
              "    .dataframe tbody tr th:only-of-type {\n",
              "        vertical-align: middle;\n",
              "    }\n",
              "\n",
              "    .dataframe tbody tr th {\n",
              "        vertical-align: top;\n",
              "    }\n",
              "\n",
              "    .dataframe thead th {\n",
              "        text-align: right;\n",
              "    }\n",
              "</style>\n",
              "<table border=\"1\" class=\"dataframe\">\n",
              "  <thead>\n",
              "    <tr style=\"text-align: right;\">\n",
              "      <th></th>\n",
              "      <th>Age</th>\n",
              "      <th>Gender</th>\n",
              "      <th>Tenure</th>\n",
              "      <th>Usage Frequency</th>\n",
              "      <th>Support Calls</th>\n",
              "      <th>Payment Delay</th>\n",
              "      <th>Subscription Type</th>\n",
              "      <th>Contract Length</th>\n",
              "      <th>Total Spend</th>\n",
              "      <th>Last Interaction</th>\n",
              "      <th>Churn</th>\n",
              "    </tr>\n",
              "  </thead>\n",
              "  <tbody>\n",
              "    <tr>\n",
              "      <th>0</th>\n",
              "      <td>30.0</td>\n",
              "      <td>0</td>\n",
              "      <td>39.0</td>\n",
              "      <td>14.0</td>\n",
              "      <td>5.0</td>\n",
              "      <td>18.0</td>\n",
              "      <td>2</td>\n",
              "      <td>0</td>\n",
              "      <td>932.0</td>\n",
              "      <td>17.0</td>\n",
              "      <td>1.0</td>\n",
              "    </tr>\n",
              "    <tr>\n",
              "      <th>1</th>\n",
              "      <td>65.0</td>\n",
              "      <td>0</td>\n",
              "      <td>49.0</td>\n",
              "      <td>1.0</td>\n",
              "      <td>10.0</td>\n",
              "      <td>8.0</td>\n",
              "      <td>0</td>\n",
              "      <td>1</td>\n",
              "      <td>557.0</td>\n",
              "      <td>6.0</td>\n",
              "      <td>1.0</td>\n",
              "    </tr>\n",
              "    <tr>\n",
              "      <th>2</th>\n",
              "      <td>55.0</td>\n",
              "      <td>0</td>\n",
              "      <td>14.0</td>\n",
              "      <td>4.0</td>\n",
              "      <td>6.0</td>\n",
              "      <td>18.0</td>\n",
              "      <td>0</td>\n",
              "      <td>2</td>\n",
              "      <td>185.0</td>\n",
              "      <td>3.0</td>\n",
              "      <td>1.0</td>\n",
              "    </tr>\n",
              "    <tr>\n",
              "      <th>3</th>\n",
              "      <td>58.0</td>\n",
              "      <td>1</td>\n",
              "      <td>38.0</td>\n",
              "      <td>21.0</td>\n",
              "      <td>7.0</td>\n",
              "      <td>7.0</td>\n",
              "      <td>2</td>\n",
              "      <td>1</td>\n",
              "      <td>396.0</td>\n",
              "      <td>29.0</td>\n",
              "      <td>1.0</td>\n",
              "    </tr>\n",
              "    <tr>\n",
              "      <th>4</th>\n",
              "      <td>23.0</td>\n",
              "      <td>1</td>\n",
              "      <td>32.0</td>\n",
              "      <td>20.0</td>\n",
              "      <td>5.0</td>\n",
              "      <td>8.0</td>\n",
              "      <td>0</td>\n",
              "      <td>1</td>\n",
              "      <td>617.0</td>\n",
              "      <td>20.0</td>\n",
              "      <td>1.0</td>\n",
              "    </tr>\n",
              "  </tbody>\n",
              "</table>\n",
              "</div>"
            ],
            "text/plain": [
              "    Age  Gender  Tenure  Usage Frequency  Support Calls  Payment Delay  \\\n",
              "0  30.0       0    39.0             14.0            5.0           18.0   \n",
              "1  65.0       0    49.0              1.0           10.0            8.0   \n",
              "2  55.0       0    14.0              4.0            6.0           18.0   \n",
              "3  58.0       1    38.0             21.0            7.0            7.0   \n",
              "4  23.0       1    32.0             20.0            5.0            8.0   \n",
              "\n",
              "   Subscription Type  Contract Length  Total Spend  Last Interaction  Churn  \n",
              "0                  2                0        932.0              17.0    1.0  \n",
              "1                  0                1        557.0               6.0    1.0  \n",
              "2                  0                2        185.0               3.0    1.0  \n",
              "3                  2                1        396.0              29.0    1.0  \n",
              "4                  0                1        617.0              20.0    1.0  "
            ]
          },
          "execution_count": 11,
          "metadata": {},
          "output_type": "execute_result"
        }
      ],
      "source": [
        "from sklearn.preprocessing import LabelEncoder\n",
        "LE = LabelEncoder()\n",
        "for col in Categorical_col:\n",
        "    df[col] = LE.fit_transform(train[col])\n",
        "\n",
        "df.head()"
      ]
    },
    {
      "cell_type": "code",
      "execution_count": 12,
      "metadata": {
        "colab": {
          "base_uri": "https://localhost:8080/",
          "height": 449
        },
        "id": "N4EhaySN3adg",
        "outputId": "e7789a7e-4096-4f46-a94d-60d4894e4f43"
      },
      "outputs": [
        {
          "data": {
            "image/png": "[encoded data removed]",
            "text/plain": [
              "<Figure size 640x480 with 1 Axes>"
            ]
          },
          "metadata": {},
          "output_type": "display_data"
        }
      ],
      "source": [
        "import seaborn as sns\n",
        "import matplotlib.pyplot as plt\n",
        "\n",
        "sns.countplot(data=df, x='Churn')\n",
        "plt.show()"
      ]
    },
    {
      "cell_type": "code",
      "execution_count": 13,
      "metadata": {
        "colab": {
          "base_uri": "https://localhost:8080/",
          "height": 985
        },
        "id": "ESNWqGnQ3p7S",
        "outputId": "6fa81154-3df1-45a3-f8fb-70ac3c167dd0"
      },
      "outputs": [
        {
          "data": {
            "image/png": "[encoded data removed]",
            "text/plain": [
              "<Figure size 1200x1200 with 2 Axes>"
            ]
          },
          "metadata": {},
          "output_type": "display_data"
        }
      ],
      "source": [
        "plt.figure(figsize=(12,12))\n",
        "sns.heatmap(df.corr(), annot=True, cmap='jet',linewidths=1, linecolor='black')\n",
        "plt.show()"
      ]
    },
    {
      "cell_type": "code",
      "execution_count": 14,
      "metadata": {
        "colab": {
          "base_uri": "https://localhost:8080/",
          "height": 206
        },
        "id": "1Gggc5bEMl5J",
        "outputId": "e7240747-2901-47da-bb6b-a5f0b7bca410"
      },
      "outputs": [
        {
          "data": {
            "text/html": [
              "<div>\n",
              "<style scoped>\n",
              "    .dataframe tbody tr th:only-of-type {\n",
              "        vertical-align: middle;\n",
              "    }\n",
              "\n",
              "    .dataframe tbody tr th {\n",
              "        vertical-align: top;\n",
              "    }\n",
              "\n",
              "    .dataframe thead th {\n",
              "        text-align: right;\n",
              "    }\n",
              "</style>\n",
              "<table border=\"1\" class=\"dataframe\">\n",
              "  <thead>\n",
              "    <tr style=\"text-align: right;\">\n",
              "      <th></th>\n",
              "      <th>Age</th>\n",
              "      <th>Tenure</th>\n",
              "      <th>Usage Frequency</th>\n",
              "      <th>Support Calls</th>\n",
              "      <th>Payment Delay</th>\n",
              "      <th>Total Spend</th>\n",
              "      <th>Last Interaction</th>\n",
              "      <th>Churn</th>\n",
              "      <th>Gender_Female</th>\n",
              "      <th>Gender_Male</th>\n",
              "      <th>Subscription Type_Basic</th>\n",
              "      <th>Subscription Type_Premium</th>\n",
              "      <th>Subscription Type_Standard</th>\n",
              "      <th>Contract Length_Annual</th>\n",
              "      <th>Contract Length_Monthly</th>\n",
              "      <th>Contract Length_Quarterly</th>\n",
              "    </tr>\n",
              "  </thead>\n",
              "  <tbody>\n",
              "    <tr>\n",
              "      <th>0</th>\n",
              "      <td>30.0</td>\n",
              "      <td>39.0</td>\n",
              "      <td>14.0</td>\n",
              "      <td>5.0</td>\n",
              "      <td>18.0</td>\n",
              "      <td>932.0</td>\n",
              "      <td>17.0</td>\n",
              "      <td>1.0</td>\n",
              "      <td>True</td>\n",
              "      <td>False</td>\n",
              "      <td>False</td>\n",
              "      <td>False</td>\n",
              "      <td>True</td>\n",
              "      <td>True</td>\n",
              "      <td>False</td>\n",
              "      <td>False</td>\n",
              "    </tr>\n",
              "    <tr>\n",
              "      <th>1</th>\n",
              "      <td>65.0</td>\n",
              "      <td>49.0</td>\n",
              "      <td>1.0</td>\n",
              "      <td>10.0</td>\n",
              "      <td>8.0</td>\n",
              "      <td>557.0</td>\n",
              "      <td>6.0</td>\n",
              "      <td>1.0</td>\n",
              "      <td>True</td>\n",
              "      <td>False</td>\n",
              "      <td>True</td>\n",
              "      <td>False</td>\n",
              "      <td>False</td>\n",
              "      <td>False</td>\n",
              "      <td>True</td>\n",
              "      <td>False</td>\n",
              "    </tr>\n",
              "    <tr>\n",
              "      <th>2</th>\n",
              "      <td>55.0</td>\n",
              "      <td>14.0</td>\n",
              "      <td>4.0</td>\n",
              "      <td>6.0</td>\n",
              "      <td>18.0</td>\n",
              "      <td>185.0</td>\n",
              "      <td>3.0</td>\n",
              "      <td>1.0</td>\n",
              "      <td>True</td>\n",
              "      <td>False</td>\n",
              "      <td>True</td>\n",
              "      <td>False</td>\n",
              "      <td>False</td>\n",
              "      <td>False</td>\n",
              "      <td>False</td>\n",
              "      <td>True</td>\n",
              "    </tr>\n",
              "    <tr>\n",
              "      <th>3</th>\n",
              "      <td>58.0</td>\n",
              "      <td>38.0</td>\n",
              "      <td>21.0</td>\n",
              "      <td>7.0</td>\n",
              "      <td>7.0</td>\n",
              "      <td>396.0</td>\n",
              "      <td>29.0</td>\n",
              "      <td>1.0</td>\n",
              "      <td>False</td>\n",
              "      <td>True</td>\n",
              "      <td>False</td>\n",
              "      <td>False</td>\n",
              "      <td>True</td>\n",
              "      <td>False</td>\n",
              "      <td>True</td>\n",
              "      <td>False</td>\n",
              "    </tr>\n",
              "    <tr>\n",
              "      <th>4</th>\n",
              "      <td>23.0</td>\n",
              "      <td>32.0</td>\n",
              "      <td>20.0</td>\n",
              "      <td>5.0</td>\n",
              "      <td>8.0</td>\n",
              "      <td>617.0</td>\n",
              "      <td>20.0</td>\n",
              "      <td>1.0</td>\n",
              "      <td>False</td>\n",
              "      <td>True</td>\n",
              "      <td>True</td>\n",
              "      <td>False</td>\n",
              "      <td>False</td>\n",
              "      <td>False</td>\n",
              "      <td>True</td>\n",
              "      <td>False</td>\n",
              "    </tr>\n",
              "  </tbody>\n",
              "</table>\n",
              "</div>"
            ],
            "text/plain": [
              "    Age  Tenure  Usage Frequency  Support Calls  Payment Delay  Total Spend  \\\n",
              "0  30.0    39.0             14.0            5.0           18.0        932.0   \n",
              "1  65.0    49.0              1.0           10.0            8.0        557.0   \n",
              "2  55.0    14.0              4.0            6.0           18.0        185.0   \n",
              "3  58.0    38.0             21.0            7.0            7.0        396.0   \n",
              "4  23.0    32.0             20.0            5.0            8.0        617.0   \n",
              "\n",
              "   Last Interaction  Churn  Gender_Female  Gender_Male  \\\n",
              "0              17.0    1.0           True        False   \n",
              "1               6.0    1.0           True        False   \n",
              "2               3.0    1.0           True        False   \n",
              "3              29.0    1.0          False         True   \n",
              "4              20.0    1.0          False         True   \n",
              "\n",
              "   Subscription Type_Basic  Subscription Type_Premium  \\\n",
              "0                    False                      False   \n",
              "1                     True                      False   \n",
              "2                     True                      False   \n",
              "3                    False                      False   \n",
              "4                     True                      False   \n",
              "\n",
              "   Subscription Type_Standard  Contract Length_Annual  \\\n",
              "0                        True                    True   \n",
              "1                       False                   False   \n",
              "2                       False                   False   \n",
              "3                        True                   False   \n",
              "4                       False                   False   \n",
              "\n",
              "   Contract Length_Monthly  Contract Length_Quarterly  \n",
              "0                    False                      False  \n",
              "1                     True                      False  \n",
              "2                    False                       True  \n",
              "3                     True                      False  \n",
              "4                     True                      False  "
            ]
          },
          "execution_count": 14,
          "metadata": {},
          "output_type": "execute_result"
        }
      ],
      "source": [
        "data = pd.get_dummies(train, columns=['Gender', 'Subscription Type', 'Contract Length'], drop_first=False  )\n",
        "data.head()"
      ]
    },
    {
      "cell_type": "code",
      "execution_count": 15,
      "metadata": {
        "colab": {
          "base_uri": "https://localhost:8080/",
          "height": 424
        },
        "id": "boCQ5Mw2DDcI",
        "outputId": "80edadcc-cf17-4639-ddec-78ce823b28d4"
      },
      "outputs": [
        {
          "data": {
            "text/html": [
              "<div>\n",
              "<style scoped>\n",
              "    .dataframe tbody tr th:only-of-type {\n",
              "        vertical-align: middle;\n",
              "    }\n",
              "\n",
              "    .dataframe tbody tr th {\n",
              "        vertical-align: top;\n",
              "    }\n",
              "\n",
              "    .dataframe thead th {\n",
              "        text-align: right;\n",
              "    }\n",
              "</style>\n",
              "<table border=\"1\" class=\"dataframe\">\n",
              "  <thead>\n",
              "    <tr style=\"text-align: right;\">\n",
              "      <th></th>\n",
              "      <th>Age</th>\n",
              "      <th>Tenure</th>\n",
              "      <th>Usage Frequency</th>\n",
              "      <th>Support Calls</th>\n",
              "      <th>Payment Delay</th>\n",
              "      <th>Total Spend</th>\n",
              "      <th>Last Interaction</th>\n",
              "      <th>Gender_Female</th>\n",
              "      <th>Gender_Male</th>\n",
              "      <th>Subscription Type_Basic</th>\n",
              "      <th>Subscription Type_Premium</th>\n",
              "      <th>Subscription Type_Standard</th>\n",
              "      <th>Contract Length_Annual</th>\n",
              "      <th>Contract Length_Monthly</th>\n",
              "      <th>Contract Length_Quarterly</th>\n",
              "    </tr>\n",
              "  </thead>\n",
              "  <tbody>\n",
              "    <tr>\n",
              "      <th>0</th>\n",
              "      <td>30.0</td>\n",
              "      <td>39.0</td>\n",
              "      <td>14.0</td>\n",
              "      <td>5.0</td>\n",
              "      <td>18.0</td>\n",
              "      <td>932.00</td>\n",
              "      <td>17.0</td>\n",
              "      <td>True</td>\n",
              "      <td>False</td>\n",
              "      <td>False</td>\n",
              "      <td>False</td>\n",
              "      <td>True</td>\n",
              "      <td>True</td>\n",
              "      <td>False</td>\n",
              "      <td>False</td>\n",
              "    </tr>\n",
              "    <tr>\n",
              "      <th>1</th>\n",
              "      <td>65.0</td>\n",
              "      <td>49.0</td>\n",
              "      <td>1.0</td>\n",
              "      <td>10.0</td>\n",
              "      <td>8.0</td>\n",
              "      <td>557.00</td>\n",
              "      <td>6.0</td>\n",
              "      <td>True</td>\n",
              "      <td>False</td>\n",
              "      <td>True</td>\n",
              "      <td>False</td>\n",
              "      <td>False</td>\n",
              "      <td>False</td>\n",
              "      <td>True</td>\n",
              "      <td>False</td>\n",
              "    </tr>\n",
              "    <tr>\n",
              "      <th>2</th>\n",
              "      <td>55.0</td>\n",
              "      <td>14.0</td>\n",
              "      <td>4.0</td>\n",
              "      <td>6.0</td>\n",
              "      <td>18.0</td>\n",
              "      <td>185.00</td>\n",
              "      <td>3.0</td>\n",
              "      <td>True</td>\n",
              "      <td>False</td>\n",
              "      <td>True</td>\n",
              "      <td>False</td>\n",
              "      <td>False</td>\n",
              "      <td>False</td>\n",
              "      <td>False</td>\n",
              "      <td>True</td>\n",
              "    </tr>\n",
              "    <tr>\n",
              "      <th>3</th>\n",
              "      <td>58.0</td>\n",
              "      <td>38.0</td>\n",
              "      <td>21.0</td>\n",
              "      <td>7.0</td>\n",
              "      <td>7.0</td>\n",
              "      <td>396.00</td>\n",
              "      <td>29.0</td>\n",
              "      <td>False</td>\n",
              "      <td>True</td>\n",
              "      <td>False</td>\n",
              "      <td>False</td>\n",
              "      <td>True</td>\n",
              "      <td>False</td>\n",
              "      <td>True</td>\n",
              "      <td>False</td>\n",
              "    </tr>\n",
              "    <tr>\n",
              "      <th>4</th>\n",
              "      <td>23.0</td>\n",
              "      <td>32.0</td>\n",
              "      <td>20.0</td>\n",
              "      <td>5.0</td>\n",
              "      <td>8.0</td>\n",
              "      <td>617.00</td>\n",
              "      <td>20.0</td>\n",
              "      <td>False</td>\n",
              "      <td>True</td>\n",
              "      <td>True</td>\n",
              "      <td>False</td>\n",
              "      <td>False</td>\n",
              "      <td>False</td>\n",
              "      <td>True</td>\n",
              "      <td>False</td>\n",
              "    </tr>\n",
              "    <tr>\n",
              "      <th>...</th>\n",
              "      <td>...</td>\n",
              "      <td>...</td>\n",
              "      <td>...</td>\n",
              "      <td>...</td>\n",
              "      <td>...</td>\n",
              "      <td>...</td>\n",
              "      <td>...</td>\n",
              "      <td>...</td>\n",
              "      <td>...</td>\n",
              "      <td>...</td>\n",
              "      <td>...</td>\n",
              "      <td>...</td>\n",
              "      <td>...</td>\n",
              "      <td>...</td>\n",
              "      <td>...</td>\n",
              "    </tr>\n",
              "    <tr>\n",
              "      <th>440828</th>\n",
              "      <td>42.0</td>\n",
              "      <td>54.0</td>\n",
              "      <td>15.0</td>\n",
              "      <td>1.0</td>\n",
              "      <td>3.0</td>\n",
              "      <td>716.38</td>\n",
              "      <td>8.0</td>\n",
              "      <td>False</td>\n",
              "      <td>True</td>\n",
              "      <td>False</td>\n",
              "      <td>True</td>\n",
              "      <td>False</td>\n",
              "      <td>True</td>\n",
              "      <td>False</td>\n",
              "      <td>False</td>\n",
              "    </tr>\n",
              "    <tr>\n",
              "      <th>440829</th>\n",
              "      <td>25.0</td>\n",
              "      <td>8.0</td>\n",
              "      <td>13.0</td>\n",
              "      <td>1.0</td>\n",
              "      <td>20.0</td>\n",
              "      <td>745.38</td>\n",
              "      <td>2.0</td>\n",
              "      <td>True</td>\n",
              "      <td>False</td>\n",
              "      <td>False</td>\n",
              "      <td>True</td>\n",
              "      <td>False</td>\n",
              "      <td>True</td>\n",
              "      <td>False</td>\n",
              "      <td>False</td>\n",
              "    </tr>\n",
              "    <tr>\n",
              "      <th>440830</th>\n",
              "      <td>26.0</td>\n",
              "      <td>35.0</td>\n",
              "      <td>27.0</td>\n",
              "      <td>1.0</td>\n",
              "      <td>5.0</td>\n",
              "      <td>977.31</td>\n",
              "      <td>9.0</td>\n",
              "      <td>False</td>\n",
              "      <td>True</td>\n",
              "      <td>False</td>\n",
              "      <td>False</td>\n",
              "      <td>True</td>\n",
              "      <td>False</td>\n",
              "      <td>False</td>\n",
              "      <td>True</td>\n",
              "    </tr>\n",
              "    <tr>\n",
              "      <th>440831</th>\n",
              "      <td>28.0</td>\n",
              "      <td>55.0</td>\n",
              "      <td>14.0</td>\n",
              "      <td>2.0</td>\n",
              "      <td>0.0</td>\n",
              "      <td>602.55</td>\n",
              "      <td>2.0</td>\n",
              "      <td>False</td>\n",
              "      <td>True</td>\n",
              "      <td>False</td>\n",
              "      <td>False</td>\n",
              "      <td>True</td>\n",
              "      <td>False</td>\n",
              "      <td>False</td>\n",
              "      <td>True</td>\n",
              "    </tr>\n",
              "    <tr>\n",
              "      <th>440832</th>\n",
              "      <td>31.0</td>\n",
              "      <td>48.0</td>\n",
              "      <td>20.0</td>\n",
              "      <td>1.0</td>\n",
              "      <td>14.0</td>\n",
              "      <td>567.77</td>\n",
              "      <td>21.0</td>\n",
              "      <td>False</td>\n",
              "      <td>True</td>\n",
              "      <td>False</td>\n",
              "      <td>True</td>\n",
              "      <td>False</td>\n",
              "      <td>False</td>\n",
              "      <td>False</td>\n",
              "      <td>True</td>\n",
              "    </tr>\n",
              "  </tbody>\n",
              "</table>\n",
              "<p>440832 rows × 15 columns</p>\n",
              "</div>"
            ],
            "text/plain": [
              "         Age  Tenure  Usage Frequency  Support Calls  Payment Delay  \\\n",
              "0       30.0    39.0             14.0            5.0           18.0   \n",
              "1       65.0    49.0              1.0           10.0            8.0   \n",
              "2       55.0    14.0              4.0            6.0           18.0   \n",
              "3       58.0    38.0             21.0            7.0            7.0   \n",
              "4       23.0    32.0             20.0            5.0            8.0   \n",
              "...      ...     ...              ...            ...            ...   \n",
              "440828  42.0    54.0             15.0            1.0            3.0   \n",
              "440829  25.0     8.0             13.0            1.0           20.0   \n",
              "440830  26.0    35.0             27.0            1.0            5.0   \n",
              "440831  28.0    55.0             14.0            2.0            0.0   \n",
              "440832  31.0    48.0             20.0            1.0           14.0   \n",
              "\n",
              "        Total Spend  Last Interaction  Gender_Female  Gender_Male  \\\n",
              "0            932.00              17.0           True        False   \n",
              "1            557.00               6.0           True        False   \n",
              "2            185.00               3.0           True        False   \n",
              "3            396.00              29.0          False         True   \n",
              "4            617.00              20.0          False         True   \n",
              "...             ...               ...            ...          ...   \n",
              "440828       716.38               8.0          False         True   \n",
              "440829       745.38               2.0           True        False   \n",
              "440830       977.31               9.0          False         True   \n",
              "440831       602.55               2.0          False         True   \n",
              "440832       567.77              21.0          False         True   \n",
              "\n",
              "        Subscription Type_Basic  Subscription Type_Premium  \\\n",
              "0                         False                      False   \n",
              "1                          True                      False   \n",
              "2                          True                      False   \n",
              "3                         False                      False   \n",
              "4                          True                      False   \n",
              "...                         ...                        ...   \n",
              "440828                    False                       True   \n",
              "440829                    False                       True   \n",
              "440830                    False                      False   \n",
              "440831                    False                      False   \n",
              "440832                    False                       True   \n",
              "\n",
              "        Subscription Type_Standard  Contract Length_Annual  \\\n",
              "0                             True                    True   \n",
              "1                            False                   False   \n",
              "2                            False                   False   \n",
              "3                             True                   False   \n",
              "4                            False                   False   \n",
              "...                            ...                     ...   \n",
              "440828                       False                    True   \n",
              "440829                       False                    True   \n",
              "440830                        True                   False   \n",
              "440831                        True                   False   \n",
              "440832                       False                   False   \n",
              "\n",
              "        Contract Length_Monthly  Contract Length_Quarterly  \n",
              "0                         False                      False  \n",
              "1                          True                      False  \n",
              "2                         False                       True  \n",
              "3                          True                      False  \n",
              "4                          True                      False  \n",
              "...                         ...                        ...  \n",
              "440828                    False                      False  \n",
              "440829                    False                      False  \n",
              "440830                    False                       True  \n",
              "440831                    False                       True  \n",
              "440832                    False                       True  \n",
              "\n",
              "[440832 rows x 15 columns]"
            ]
          },
          "execution_count": 15,
          "metadata": {},
          "output_type": "execute_result"
        }
      ],
      "source": [
        "from sklearn.model_selection import train_test_split\n",
        "X = data.drop('Churn', axis=1)\n",
        "y = data['Churn']\n",
        "X"
      ]
    },
    {
      "cell_type": "code",
      "execution_count": 17,
      "metadata": {
        "colab": {
          "base_uri": "https://localhost:8080/"
        },
        "id": "YKBbe3VfOwvm",
        "outputId": "cb218883-bfc1-4d9a-d661-1a2d3c9aa497"
      },
      "outputs": [
        {
          "name": "stdout",
          "output_type": "stream",
          "text": [
            "[[34559  3504]\n",
            " [ 5628 44476]]\n",
            "              precision    recall  f1-score   support\n",
            "\n",
            "         0.0       0.86      0.91      0.88     38063\n",
            "         1.0       0.93      0.89      0.91     50104\n",
            "\n",
            "    accuracy                           0.90     88167\n",
            "   macro avg       0.89      0.90      0.90     88167\n",
            "weighted avg       0.90      0.90      0.90     88167\n",
            "\n"
          ]
        }
      ],
      "source": [
        "X_train, X_test, y_train, y_test = train_test_split(X, y, test_size=0.2, random_state=42)\n",
        "\n",
        "# Train the logistic regression model\n",
        "model = LogisticRegression(max_iter=2000)\n",
        "model.fit(X_train, y_train)\n",
        "\n",
        "# Model evaluation\n",
        "y_pred = model.predict(X_test)\n",
        "print(confusion_matrix(y_test, y_pred))\n",
        "print(classification_report(y_test, y_pred))"
      ]
    },
    {
      "cell_type": "markdown",
      "metadata": {},
      "source": [
        "### Save pickle model locally"
      ]
    },
    {
      "cell_type": "code",
      "execution_count": 18,
      "metadata": {},
      "outputs": [
        {
          "name": "stdout",
          "output_type": "stream",
          "text": [
            "Model saved to logistic_regression_model.pkl\n"
          ]
        }
      ],
      "source": [
        "# save model locally\n",
        "import joblib\n",
        "# Assuming the model variable contains the trained logistic regression model\n",
        "model_file_path = 'logistic_regression_model.pkl'\n",
        "joblib.dump(model, model_file_path)\n",
        "print(f\"Model saved to {model_file_path}\")\n"
      ]
    },
    {
      "cell_type": "markdown",
      "metadata": {
        "id": "vI1FAJTQT1uT"
      },
      "source": [
        "### Tasting"
      ]
    },
    {
      "cell_type": "code",
      "execution_count": 26,
      "metadata": {
        "colab": {
          "base_uri": "https://localhost:8080/",
          "height": 755
        },
        "collapsed": true,
        "id": "DmoshemYSTua",
        "outputId": "8035b323-0d2a-4b31-a6bb-ed5ec8c54e74"
      },
      "outputs": [
        {
          "name": "stdout",
          "output_type": "stream",
          "text": [
            "Model loaded from logistic_regression_model.pkl\n"
          ]
        },
        {
          "data": {
            "image/png": "[encoded data removed]",
            "text/plain": [
              "<Figure size 800x600 with 2 Axes>"
            ]
          },
          "metadata": {},
          "output_type": "display_data"
        },
        {
          "name": "stdout",
          "output_type": "stream",
          "text": [
            "Classification Report:\n",
            "              precision    recall  f1-score   support\n",
            "\n",
            "           0       0.96      0.19      0.32     33881\n",
            "           1       0.53      0.99      0.69     30493\n",
            "\n",
            "    accuracy                           0.57     64374\n",
            "   macro avg       0.74      0.59      0.50     64374\n",
            "weighted avg       0.75      0.57      0.49     64374\n",
            "\n"
          ]
        }
      ],
      "source": [
        "import joblib\n",
        "import pandas as pd\n",
        "import seaborn as sns\n",
        "import matplotlib.pyplot as plt\n",
        "from sklearn.metrics import confusion_matrix, classification_report\n",
        "\n",
        "# Load the test dataset\n",
        "test_file_path = 'test.csv'\n",
        "test_data = pd.read_csv(test_file_path)\n",
        "\n",
        "# Load the saved model\n",
        "model_file_path = 'logistic_regression_model.pkl'\n",
        "model = joblib.load(model_file_path)\n",
        "print(\"Model loaded from\", model_file_path)\n",
        "\n",
        "# Preprocess the test data (same steps as training data)\n",
        "test_data = test_data.drop(['CustomerID'], axis=1)\n",
        "test_data = test_data.dropna()\n",
        "test_data = pd.get_dummies(test_data, columns=['Gender', 'Subscription Type', 'Contract Length'], drop_first=False)\n",
        "\n",
        "\n",
        "# Separate features and target variable from the test data\n",
        "X_test_new = test_data.drop('Churn', axis=1)\n",
        "y_test_new = test_data['Churn']\n",
        "\n",
        "# Make predictions on the test set\n",
        "y_pred_new = model.predict(X_test_new)\n",
        "\n",
        "# Plot confusion matrix\n",
        "conf_matrix = confusion_matrix(y_test_new, y_pred_new)\n",
        "plt.figure(figsize=(8, 6))\n",
        "sns.heatmap(conf_matrix, annot=True, fmt='d', cmap='Blues')\n",
        "plt.xlabel('Predicted Label')\n",
        "plt.ylabel('True Label')\n",
        "plt.title('Confusion Matrix')\n",
        "plt.show()\n",
        "\n",
        "# Print classification report\n",
        "print(\"Classification Report:\")\n",
        "print(classification_report(y_test_new, y_pred_new))\n"
      ]
    },
    {
      "cell_type": "markdown",
      "metadata": {
        "id": "SW03mFfOoYcI"
      },
      "source": [
        "### Apply the Equation"
      ]
    },
    {
      "cell_type": "code",
      "execution_count": 19,
      "metadata": {
        "colab": {
          "base_uri": "https://localhost:8080/"
        },
        "id": "z2_PlCyITprY",
        "outputId": "ab5af3e4-5a70-4ea2-d2b7-5a3fa871f882"
      },
      "outputs": [
        {
          "name": "stdout",
          "output_type": "stream",
          "text": [
            "Model loaded from logistic_regression_model.pkl\n"
          ]
        }
      ],
      "source": [
        "# Load the saved model\n",
        "model_file_path = 'logistic_regression_model.pkl'\n",
        "model2 = joblib.load(model_file_path)\n",
        "print(\"Model loaded from\", model_file_path)"
      ]
    },
    {
      "cell_type": "code",
      "execution_count": 22,
      "metadata": {
        "colab": {
          "base_uri": "https://localhost:8080/"
        },
        "id": "y6L5XQLGPB_M",
        "outputId": "816c021d-a484-4098-ddd2-867c8af7adca"
      },
      "outputs": [
        {
          "data": {
            "text/plain": [
              "array([ 3.56050954e-02, -7.81598371e-03, -1.44813022e-02,  7.47388531e-01,\n",
              "        1.12604421e-01, -6.04145939e-03,  6.06848924e-02,  1.04520599e+00,\n",
              "       -1.03131796e-01,  3.93118615e-01,  2.72203004e-01,  2.76752578e-01,\n",
              "       -3.17713262e+00,  7.29573059e+00, -3.17652378e+00])"
            ]
          },
          "execution_count": 22,
          "metadata": {},
          "output_type": "execute_result"
        }
      ],
      "source": [
        "model2.coef_[0]"
      ]
    },
    {
      "cell_type": "code",
      "execution_count": 29,
      "metadata": {
        "colab": {
          "base_uri": "https://localhost:8080/"
        },
        "id": "PVbq21-wPjsh",
        "outputId": "6e79de1a-c1ee-459c-bd59-f6138e367aca"
      },
      "outputs": [
        {
          "data": {
            "text/plain": [
              "array([0.94989546])"
            ]
          },
          "execution_count": 29,
          "metadata": {},
          "output_type": "execute_result"
        }
      ],
      "source": [
        "model2.intercept_"
      ]
    },
    {
      "cell_type": "code",
      "execution_count": 30,
      "metadata": {
        "colab": {
          "base_uri": "https://localhost:8080/"
        },
        "id": "sGmIp6VwPqXd",
        "outputId": "7f274b1a-31c6-404c-bb01-cce7971039ff"
      },
      "outputs": [
        {
          "name": "stdout",
          "output_type": "stream",
          "text": [
            "\n",
            "Model Coefficients:\n",
            "                       Feature  Coefficient\n",
            "0                          Age     0.035580\n",
            "1                       Tenure    -0.007825\n",
            "2              Usage Frequency    -0.014494\n",
            "3                Support Calls     0.747618\n",
            "4                Payment Delay     0.112642\n",
            "5                  Total Spend    -0.006044\n",
            "6             Last Interaction     0.060728\n",
            "7                Gender_Female     1.049915\n",
            "8                  Gender_Male    -0.100057\n",
            "9      Subscription Type_Basic     0.395383\n",
            "10   Subscription Type_Premium     0.275734\n",
            "11  Subscription Type_Standard     0.278741\n",
            "12      Contract Length_Annual    -3.190748\n",
            "13     Contract Length_Monthly     7.328623\n",
            "14   Contract Length_Quarterly    -3.188017\n"
          ]
        }
      ],
      "source": [
        "# Get model coefficients\n",
        "coefficients = pd.DataFrame({\n",
        "    'Feature': X_train.columns,\n",
        "    'Coefficient': model2.coef_[0]\n",
        "})\n",
        "intercept = model2.intercept_[0]\n",
        "print(\"\\nModel Coefficients:\")\n",
        "print(coefficients)"
      ]
    },
    {
      "cell_type": "code",
      "execution_count": 31,
      "metadata": {
        "colab": {
          "base_uri": "https://localhost:8080/"
        },
        "id": "AEaEfYjiQOmL",
        "outputId": "c21a7fab-7154-4d75-81d6-f16073a023fe"
      },
      "outputs": [
        {
          "name": "stdout",
          "output_type": "stream",
          "text": [
            "\n",
            "Logistic Regression Equation:\n",
            "Logit(p) = 0.9499 + (0.0356 * Age) + (-0.0078 * Tenure) + (-0.0145 * Usage Frequency) + (0.7476 * Support Calls) + (0.1126 * Payment Delay) + (-0.0060 * Total Spend) + (0.0607 * Last Interaction) + (1.0499 * Gender_Female) + (-0.1001 * Gender_Male) + (0.3954 * Subscription Type_Basic) + (0.2757 * Subscription Type_Premium) + (0.2787 * Subscription Type_Standard) + (-3.1907 * Contract Length_Annual) + (7.3286 * Contract Length_Monthly) + (-3.1880 * Contract Length_Quarterly)\n"
          ]
        }
      ],
      "source": [
        "# Form the logistic regression equation\n",
        "equation = f\"Logit(p) = {intercept:.4f}\"\n",
        "for idx, row in coefficients.iterrows():\n",
        "    equation += f\" + ({row['Coefficient']:.4f} * {row['Feature']})\"\n",
        "print(\"\\nLogistic Regression Equation:\")\n",
        "print(equation)"
      ]
    },
    {
      "cell_type": "code",
      "execution_count": 35,
      "metadata": {},
      "outputs": [],
      "source": [
        "# Example inference\n",
        "example_data = {\n",
        "    'Age': 30,\n",
        "    'Tenure': 39, \n",
        "    'Usage Frequency': 14, \n",
        "    'Support Calls': 5, \n",
        "    'Payment Delay': 18,\n",
        "    'Total Spend': 932, \n",
        "    'Last Interaction': 17, \n",
        "    'Gender_Female' : 1, \n",
        "    'Gender_Male': 0,\n",
        "    'Subscription Type_Basic': 0, \n",
        "    'Subscription Type_Premium': 0,\n",
        "    'Subscription Type_Standard': 1, \n",
        "    'Contract Length_Annual': 1,\n",
        "    'Contract Length_Monthly': 0, \n",
        "    'Contract Length_Quarterly': 0\n",
        "}"
      ]
    },
    {
      "cell_type": "code",
      "execution_count": 43,
      "metadata": {},
      "outputs": [
        {
          "data": {
            "text/plain": [
              "0.7012589342793311"
            ]
          },
          "execution_count": 43,
          "metadata": {},
          "output_type": "execute_result"
        }
      ],
      "source": [
        "Logit = 0.9499 + (0.0356 * example_data['Age']) + (-0.0078 * example_data['Tenure']) + (-0.0145 * example_data['Usage Frequency']) + (0.7476 * example_data['Support Calls']) + (0.1126 * example_data['Payment Delay']) + (-0.0060 * example_data['Total Spend']) + (0.0607 * example_data['Last Interaction']) + (1.0499 * example_data['Gender_Female']) + (-0.1001 * example_data['Gender_Male']) + (0.3954 * example_data['Subscription Type_Basic']) + (0.2757 * example_data['Subscription Type_Premium']) + (0.2787 * example_data['Subscription Type_Standard']) + (-3.1907 * example_data['Contract Length_Annual']) + (7.3286 * example_data['Contract Length_Monthly']) + (-3.1880 * example_data['Contract Length_Quarterly'])\n",
        "probability = 1 / (1 + np.exp(-Logit))\n",
        "probability"
      ]
    },
    {
      "cell_type": "code",
      "execution_count": 42,
      "metadata": {
        "colab": {
          "base_uri": "https://localhost:8080/"
        },
        "id": "ughhF4UNVj4L",
        "outputId": "c25cf532-5587-40cd-a844-366f75a5f013"
      },
      "outputs": [
        {
          "name": "stdout",
          "output_type": "stream",
          "text": [
            "Predicted Churn: (1.0, 0.692561017615707)\n"
          ]
        }
      ],
      "source": [
        "# Inference function\n",
        "def predict_churn(input_data):\n",
        "    df = pd.DataFrame(input_data, index=[0])\n",
        "    df = df.reindex(columns=X_train.columns, fill_value=0)\n",
        "    # Get predicted class and probability of churn\n",
        "    prediction = model.predict(df)\n",
        "    probability = model.predict_proba(df)[:, 1]  # Probability of the positive class (churn)\n",
        "\n",
        "    return prediction[0], probability[0]\n",
        "\n",
        "\n",
        "print(\"Predicted Churn:\", predict_churn(example_data))"
      ]
    }
  ],
  "metadata": {
    "colab": {
      "provenance": []
    },
    "kernelspec": {
      "display_name": "Python 3",
      "name": "python3"
    },
    "language_info": {
      "codemirror_mode": {
        "name": "ipython",
        "version": 3
      },
      "file_extension": ".py",
      "mimetype": "text/x-python",
      "name": "python",
      "nbconvert_exporter": "python",
      "pygments_lexer": "ipython3",
      "version": "3.10.6"
    }
  },
  "nbformat": 4,
  "nbformat_minor": 0
}
